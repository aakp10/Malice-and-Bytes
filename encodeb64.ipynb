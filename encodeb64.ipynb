{
 "cells": [
  {
   "cell_type": "code",
   "execution_count": 62,
   "metadata": {},
   "outputs": [
    {
     "data": {
      "text/plain": [
       "bytearray(b'TWFuIAA*')"
      ]
     },
     "execution_count": 62,
     "metadata": {},
     "output_type": "execute_result"
    }
   ],
   "source": [
    "from string import ascii_lowercase,ascii_uppercase,digits\n",
    "\n",
    "def b2b64encode(byte_str):\n",
    "    #create base64 characters encoding table\n",
    "    b64_table = ascii_uppercase + ascii_lowercase + digits + '+/'\n",
    "    \n",
    "    #create block of 3 bytes to fetch 4 b64 characters\n",
    "    #check if they have bytes as multiple of 3bytes else we need to pad it\n",
    "    pad = 3-len(byte_str)%3\n",
    "\n",
    "    if pad != 0:\n",
    "        \"\"\"\"\n",
    "        note: 0x00 has been used just to make sure that those bytes will\n",
    "        be all 0 , if u specify anything in string then according to the \n",
    "        encoding used the byte will be different \n",
    "        \"\"\"\n",
    "        byte_str += bytes([0x00]*pad)\n",
    "        \n",
    "        #ele of this list forms a byte array\n",
    "    indices = []\n",
    "    for i in range(0,len(byte_str),3):\n",
    "        chunk = (byte_str[i]<<16) + (byte_str[i+1]<<8) +byte_str[i+2]\n",
    "        mask = 0b111111000000000000000000\n",
    "        for j in range(4):\n",
    "            b64_index = (chunk & ((mask)>>(6*j)))>>((3-j)*6)\n",
    "            indices.append(b64_index)\n",
    "    byte_b64_enoded = bytearray()\n",
    "    byte_b64_enoded.extend([ord(b64_table[i]) for i in indices])\n",
    "    if pad != 0:\n",
    "        byte_b64_enoded = byte_b64_enoded[:-(3-pad)] + bytes([ord(\"*\")]*(3-pad))\n",
    "    return byte_b64_enoded\n",
    "\n",
    "b2b64encode(b\"Man \")\n"
   ]
  },
  {
   "cell_type": "code",
   "execution_count": null,
   "metadata": {},
   "outputs": [],
   "source": []
  },
  {
   "cell_type": "code",
   "execution_count": null,
   "metadata": {},
   "outputs": [],
   "source": []
  }
 ],
 "metadata": {
  "kernelspec": {
   "display_name": "Python 3",
   "language": "python",
   "name": "python3"
  },
  "language_info": {
   "codemirror_mode": {
    "name": "ipython",
    "version": 3
   },
   "file_extension": ".py",
   "mimetype": "text/x-python",
   "name": "python",
   "nbconvert_exporter": "python",
   "pygments_lexer": "ipython3",
   "version": "3.6.3"
  }
 },
 "nbformat": 4,
 "nbformat_minor": 2
}
